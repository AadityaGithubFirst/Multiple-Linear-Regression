{
 "cells": [
  {
   "cell_type": "markdown",
   "id": "f5cf9ed4",
   "metadata": {},
   "source": [
    "The first thing that we have to do is add all the relevant modules inorder to do Multiple Linear Regression. \n",
    "These modules include:\n",
    "1. Pandas\n",
    "2. Numpy (not required)\n",
    "3. LinearRegression from sklearn.linear_model\n",
    "4. train_test_split from sklearn.model_selection"
   ]
  },
  {
   "cell_type": "code",
   "execution_count": 1,
   "id": "ca1158ab",
   "metadata": {},
   "outputs": [],
   "source": [
    "import pandas as pd\n",
    "import numpy as np\n",
    "from sklearn.linear_model import LinearRegression\n",
    "from sklearn.model_selection import train_test_split"
   ]
  },
  {
   "cell_type": "markdown",
   "id": "c0688148",
   "metadata": {},
   "source": [
    "Now we have to read the .csv file into the code so as to be able to use it"
   ]
  },
  {
   "cell_type": "code",
   "execution_count": 2,
   "id": "021c0ead",
   "metadata": {},
   "outputs": [
    {
     "data": {
      "text/html": [
       "<div>\n",
       "<style scoped>\n",
       "    .dataframe tbody tr th:only-of-type {\n",
       "        vertical-align: middle;\n",
       "    }\n",
       "\n",
       "    .dataframe tbody tr th {\n",
       "        vertical-align: top;\n",
       "    }\n",
       "\n",
       "    .dataframe thead th {\n",
       "        text-align: right;\n",
       "    }\n",
       "</style>\n",
       "<table border=\"1\" class=\"dataframe\">\n",
       "  <thead>\n",
       "    <tr style=\"text-align: right;\">\n",
       "      <th></th>\n",
       "      <th>No</th>\n",
       "      <th>X1 transaction date</th>\n",
       "      <th>X2 house age</th>\n",
       "      <th>X3 distance to the nearest MRT station</th>\n",
       "      <th>X4 number of convenience stores</th>\n",
       "      <th>X5 latitude</th>\n",
       "      <th>X6 longitude</th>\n",
       "      <th>Y house price of unit area</th>\n",
       "    </tr>\n",
       "  </thead>\n",
       "  <tbody>\n",
       "    <tr>\n",
       "      <th>0</th>\n",
       "      <td>1</td>\n",
       "      <td>2012.917</td>\n",
       "      <td>32.0</td>\n",
       "      <td>84.87882</td>\n",
       "      <td>10</td>\n",
       "      <td>24.98298</td>\n",
       "      <td>121.54024</td>\n",
       "      <td>37.9</td>\n",
       "    </tr>\n",
       "    <tr>\n",
       "      <th>1</th>\n",
       "      <td>2</td>\n",
       "      <td>2012.917</td>\n",
       "      <td>19.5</td>\n",
       "      <td>306.59470</td>\n",
       "      <td>9</td>\n",
       "      <td>24.98034</td>\n",
       "      <td>121.53951</td>\n",
       "      <td>42.2</td>\n",
       "    </tr>\n",
       "    <tr>\n",
       "      <th>2</th>\n",
       "      <td>3</td>\n",
       "      <td>2013.583</td>\n",
       "      <td>13.3</td>\n",
       "      <td>561.98450</td>\n",
       "      <td>5</td>\n",
       "      <td>24.98746</td>\n",
       "      <td>121.54391</td>\n",
       "      <td>47.3</td>\n",
       "    </tr>\n",
       "    <tr>\n",
       "      <th>3</th>\n",
       "      <td>4</td>\n",
       "      <td>2013.500</td>\n",
       "      <td>13.3</td>\n",
       "      <td>561.98450</td>\n",
       "      <td>5</td>\n",
       "      <td>24.98746</td>\n",
       "      <td>121.54391</td>\n",
       "      <td>54.8</td>\n",
       "    </tr>\n",
       "    <tr>\n",
       "      <th>4</th>\n",
       "      <td>5</td>\n",
       "      <td>2012.833</td>\n",
       "      <td>5.0</td>\n",
       "      <td>390.56840</td>\n",
       "      <td>5</td>\n",
       "      <td>24.97937</td>\n",
       "      <td>121.54245</td>\n",
       "      <td>43.1</td>\n",
       "    </tr>\n",
       "    <tr>\n",
       "      <th>...</th>\n",
       "      <td>...</td>\n",
       "      <td>...</td>\n",
       "      <td>...</td>\n",
       "      <td>...</td>\n",
       "      <td>...</td>\n",
       "      <td>...</td>\n",
       "      <td>...</td>\n",
       "      <td>...</td>\n",
       "    </tr>\n",
       "    <tr>\n",
       "      <th>409</th>\n",
       "      <td>410</td>\n",
       "      <td>2013.000</td>\n",
       "      <td>13.7</td>\n",
       "      <td>4082.01500</td>\n",
       "      <td>0</td>\n",
       "      <td>24.94155</td>\n",
       "      <td>121.50381</td>\n",
       "      <td>15.4</td>\n",
       "    </tr>\n",
       "    <tr>\n",
       "      <th>410</th>\n",
       "      <td>411</td>\n",
       "      <td>2012.667</td>\n",
       "      <td>5.6</td>\n",
       "      <td>90.45606</td>\n",
       "      <td>9</td>\n",
       "      <td>24.97433</td>\n",
       "      <td>121.54310</td>\n",
       "      <td>50.0</td>\n",
       "    </tr>\n",
       "    <tr>\n",
       "      <th>411</th>\n",
       "      <td>412</td>\n",
       "      <td>2013.250</td>\n",
       "      <td>18.8</td>\n",
       "      <td>390.96960</td>\n",
       "      <td>7</td>\n",
       "      <td>24.97923</td>\n",
       "      <td>121.53986</td>\n",
       "      <td>40.6</td>\n",
       "    </tr>\n",
       "    <tr>\n",
       "      <th>412</th>\n",
       "      <td>413</td>\n",
       "      <td>2013.000</td>\n",
       "      <td>8.1</td>\n",
       "      <td>104.81010</td>\n",
       "      <td>5</td>\n",
       "      <td>24.96674</td>\n",
       "      <td>121.54067</td>\n",
       "      <td>52.5</td>\n",
       "    </tr>\n",
       "    <tr>\n",
       "      <th>413</th>\n",
       "      <td>414</td>\n",
       "      <td>2013.500</td>\n",
       "      <td>6.5</td>\n",
       "      <td>90.45606</td>\n",
       "      <td>9</td>\n",
       "      <td>24.97433</td>\n",
       "      <td>121.54310</td>\n",
       "      <td>63.9</td>\n",
       "    </tr>\n",
       "  </tbody>\n",
       "</table>\n",
       "<p>414 rows × 8 columns</p>\n",
       "</div>"
      ],
      "text/plain": [
       "      No  X1 transaction date  X2 house age  \\\n",
       "0      1             2012.917          32.0   \n",
       "1      2             2012.917          19.5   \n",
       "2      3             2013.583          13.3   \n",
       "3      4             2013.500          13.3   \n",
       "4      5             2012.833           5.0   \n",
       "..   ...                  ...           ...   \n",
       "409  410             2013.000          13.7   \n",
       "410  411             2012.667           5.6   \n",
       "411  412             2013.250          18.8   \n",
       "412  413             2013.000           8.1   \n",
       "413  414             2013.500           6.5   \n",
       "\n",
       "     X3 distance to the nearest MRT station  X4 number of convenience stores  \\\n",
       "0                                  84.87882                               10   \n",
       "1                                 306.59470                                9   \n",
       "2                                 561.98450                                5   \n",
       "3                                 561.98450                                5   \n",
       "4                                 390.56840                                5   \n",
       "..                                      ...                              ...   \n",
       "409                              4082.01500                                0   \n",
       "410                                90.45606                                9   \n",
       "411                               390.96960                                7   \n",
       "412                               104.81010                                5   \n",
       "413                                90.45606                                9   \n",
       "\n",
       "     X5 latitude  X6 longitude  Y house price of unit area  \n",
       "0       24.98298     121.54024                        37.9  \n",
       "1       24.98034     121.53951                        42.2  \n",
       "2       24.98746     121.54391                        47.3  \n",
       "3       24.98746     121.54391                        54.8  \n",
       "4       24.97937     121.54245                        43.1  \n",
       "..           ...           ...                         ...  \n",
       "409     24.94155     121.50381                        15.4  \n",
       "410     24.97433     121.54310                        50.0  \n",
       "411     24.97923     121.53986                        40.6  \n",
       "412     24.96674     121.54067                        52.5  \n",
       "413     24.97433     121.54310                        63.9  \n",
       "\n",
       "[414 rows x 8 columns]"
      ]
     },
     "execution_count": 2,
     "metadata": {},
     "output_type": "execute_result"
    }
   ],
   "source": [
    "re=pd.read_csv('D:/Machine_Learning/Real Estate.csv')\n",
    "re"
   ]
  },
  {
   "cell_type": "markdown",
   "id": "b0fbbf2e",
   "metadata": {},
   "source": [
    "Now let us isolate the columns that are there for x and reshape to use it in the Linear Regression class"
   ]
  },
  {
   "cell_type": "code",
   "execution_count": 3,
   "id": "ceb2fe71",
   "metadata": {},
   "outputs": [
    {
     "data": {
      "text/plain": [
       "array([[ 32.     ,  84.87882,  10.     ],\n",
       "       [ 19.5    , 306.5947 ,   9.     ],\n",
       "       [ 13.3    , 561.9845 ,   5.     ],\n",
       "       ...,\n",
       "       [ 18.8    , 390.9696 ,   7.     ],\n",
       "       [  8.1    , 104.8101 ,   5.     ],\n",
       "       [  6.5    ,  90.45606,   9.     ]])"
      ]
     },
     "execution_count": 3,
     "metadata": {},
     "output_type": "execute_result"
    }
   ],
   "source": [
    "x=re.iloc[:,2:5].values\n",
    "x.reshape(-1,1)\n",
    "x"
   ]
  },
  {
   "cell_type": "code",
   "execution_count": 4,
   "id": "035efe56",
   "metadata": {},
   "outputs": [
    {
     "data": {
      "text/plain": [
       "array([ 37.9,  42.2,  47.3,  54.8,  43.1,  32.1,  40.3,  46.7,  18.8,\n",
       "        22.1,  41.4,  58.1,  39.3,  23.8,  34.3,  50.5,  70.1,  37.4,\n",
       "        42.3,  47.7,  29.3,  51.6,  24.6,  47.9,  38.8,  27. ,  56.2,\n",
       "        33.6,  47. ,  57.1,  22.1,  25. ,  34.2,  49.3,  55.1,  27.3,\n",
       "        22.9,  25.3,  47.7,  46.2,  15.9,  18.2,  34.7,  34.1,  53.9,\n",
       "        38.3,  42. ,  61.5,  13.4,  13.2,  44.2,  20.7,  27. ,  38.9,\n",
       "        51.7,  13.7,  41.9,  53.5,  22.6,  42.4,  21.3,  63.2,  27.7,\n",
       "        55. ,  25.3,  44.3,  50.7,  56.8,  36.2,  42. ,  59. ,  40.8,\n",
       "        36.3,  20. ,  54.4,  29.5,  36.8,  25.6,  29.8,  26.5,  40.3,\n",
       "        36.8,  48.1,  17.7,  43.7,  50.8,  27. ,  18.3,  48. ,  25.3,\n",
       "        45.4,  43.2,  21.8,  16.1,  41. ,  51.8,  59.5,  34.6,  51. ,\n",
       "        62.2,  38.2,  32.9,  54.4,  45.7,  30.5,  71. ,  47.1,  26.6,\n",
       "        34.1,  28.4,  51.6,  39.4,  23.1,   7.6,  53.3,  46.4,  12.2,\n",
       "        13. ,  30.6,  59.6,  31.3,  48. ,  32.5,  45.5,  57.4,  48.6,\n",
       "        62.9,  55. ,  60.7,  41. ,  37.5,  30.7,  37.5,  39.5,  42.2,\n",
       "        20.8,  46.8,  47.4,  43.5,  42.5,  51.4,  28.9,  37.5,  40.1,\n",
       "        28.4,  45.5,  52.2,  43.2,  45.1,  39.7,  48.5,  44.7,  28.9,\n",
       "        40.9,  20.7,  15.6,  18.3,  35.6,  39.4,  37.4,  57.8,  39.6,\n",
       "        11.6,  55.5,  55.2,  30.6,  73.6,  43.4,  37.4,  23.5,  14.4,\n",
       "        58.8,  58.1,  35.1,  45.2,  36.5,  19.2,  42. ,  36.7,  42.6,\n",
       "        15.5,  55.9,  23.6,  18.8,  21.8,  21.5,  25.7,  22. ,  44.3,\n",
       "        20.5,  42.3,  37.8,  42.7,  49.3,  29.3,  34.6,  36.6,  48.2,\n",
       "        39.1,  31.6,  25.5,  45.9,  31.5,  46.1,  26.6,  21.4,  44. ,\n",
       "        34.2,  26.2,  40.9,  52.2,  43.5,  31.1,  58. ,  20.9,  48.1,\n",
       "        39.7,  40.8,  43.8,  40.2,  78.3,  38.5,  48.5,  42.3,  46. ,\n",
       "        49. ,  12.8,  40.2,  46.6,  19. ,  33.4,  14.7,  17.4,  32.4,\n",
       "        23.9,  39.3,  61.9,  39. ,  40.6,  29.7,  28.8,  41.4,  33.4,\n",
       "        48.2,  21.7,  40.8,  40.6,  23.1,  22.3,  15. ,  30. ,  13.8,\n",
       "        52.7,  25.9,  51.8,  17.4,  26.5,  43.9,  63.3,  28.8,  30.7,\n",
       "        24.4,  53. ,  31.7,  40.6,  38.1,  23.7,  41.1,  40.1,  23. ,\n",
       "       117.5,  26.5,  40.5,  29.3,  41. ,  49.7,  34. ,  27.7,  44. ,\n",
       "        31.1,  45.4,  44.8,  25.6,  23.5,  34.4,  55.3,  56.3,  32.9,\n",
       "        51. ,  44.5,  37. ,  54.4,  24.5,  42.5,  38.1,  21.8,  34.1,\n",
       "        28.5,  16.7,  46.1,  36.9,  35.7,  23.2,  38.4,  29.4,  55. ,\n",
       "        50.2,  24.7,  53. ,  19.1,  24.7,  42.2,  78. ,  42.8,  41.6,\n",
       "        27.3,  42. ,  37.5,  49.8,  26.9,  18.6,  37.7,  33.1,  42.5,\n",
       "        31.3,  38.1,  62.1,  36.7,  23.6,  19.2,  12.8,  15.6,  39.6,\n",
       "        38.4,  22.8,  36.5,  35.6,  30.9,  36.3,  50.4,  42.9,  37. ,\n",
       "        53.5,  46.6,  41.2,  37.9,  30.8,  11.2,  53.7,  47. ,  42.3,\n",
       "        28.6,  25.7,  31.3,  30.1,  60.7,  45.3,  44.9,  45.1,  24.7,\n",
       "        47.1,  63.3,  40. ,  48. ,  33.1,  29.5,  24.8,  20.9,  43.1,\n",
       "        22.8,  42.1,  51.7,  41.5,  52.2,  49.5,  23.8,  30.5,  56.8,\n",
       "        37.4,  69.7,  53.3,  47.3,  29.3,  40.3,  12.9,  46.6,  55.3,\n",
       "        25.6,  27.3,  67.7,  38.6,  31.3,  35.3,  40.3,  24.7,  42.5,\n",
       "        31.9,  32.2,  23. ,  37.3,  35.5,  27.7,  28.5,  39.7,  41.2,\n",
       "        37.2,  40.5,  22.3,  28.1,  15.4,  50. ,  40.6,  52.5,  63.9])"
      ]
     },
     "execution_count": 4,
     "metadata": {},
     "output_type": "execute_result"
    }
   ],
   "source": [
    "y=re.iloc[:,-1].values\n",
    "y"
   ]
  },
  {
   "cell_type": "markdown",
   "id": "9cb08fd3",
   "metadata": {},
   "source": [
    "Now let us start the process of multiple Linear Regression<br>\n",
    "<strong>First</strong> let us initiate a new instance of the Linear Regression class<br>\n",
    "<strong>Next</strong> let us split the data into a training and test data so as to actually check whether the Linear Regression actually works"
   ]
  },
  {
   "cell_type": "code",
   "execution_count": 5,
   "id": "3ece08a0",
   "metadata": {},
   "outputs": [],
   "source": [
    "reg=LinearRegression()\n",
    "x_train,x_test,y_train,y_test=train_test_split(x,y,test_size=0.2,random_state=0)"
   ]
  },
  {
   "cell_type": "code",
   "execution_count": 6,
   "id": "bf7f5a63",
   "metadata": {},
   "outputs": [],
   "source": [
    "reg.fit(x_train,y_train)\n",
    "y_pred=reg.predict(x_test)"
   ]
  },
  {
   "cell_type": "markdown",
   "id": "500a3831",
   "metadata": {},
   "source": [
    "Now let us check the score of the regression model against our test dataset"
   ]
  },
  {
   "cell_type": "code",
   "execution_count": 7,
   "id": "138d01e4",
   "metadata": {},
   "outputs": [
    {
     "data": {
      "text/plain": [
       "0.6222383595452838"
      ]
     },
     "execution_count": 7,
     "metadata": {},
     "output_type": "execute_result"
    }
   ],
   "source": [
    "reg.score(x_test,y_test)"
   ]
  },
  {
   "cell_type": "markdown",
   "id": "94bdc0c8",
   "metadata": {},
   "source": [
    "Now let us predict some already preexisting values in the dataset"
   ]
  },
  {
   "cell_type": "code",
   "execution_count": 8,
   "id": "7384e24c",
   "metadata": {},
   "outputs": [
    {
     "name": "stdout",
     "output_type": "stream",
     "text": [
      "[47.24728818]\n"
     ]
    }
   ],
   "source": [
    "print(reg.predict([[32.,84.87882, 10.]]))"
   ]
  }
 ],
 "metadata": {
  "kernelspec": {
   "display_name": "Python 3 (ipykernel)",
   "language": "python",
   "name": "python3"
  },
  "language_info": {
   "codemirror_mode": {
    "name": "ipython",
    "version": 3
   },
   "file_extension": ".py",
   "mimetype": "text/x-python",
   "name": "python",
   "nbconvert_exporter": "python",
   "pygments_lexer": "ipython3",
   "version": "3.9.13"
  }
 },
 "nbformat": 4,
 "nbformat_minor": 5
}
